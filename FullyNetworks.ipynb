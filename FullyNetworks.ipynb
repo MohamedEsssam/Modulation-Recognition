{
  "nbformat": 4,
  "nbformat_minor": 0,
  "metadata": {
    "colab": {
      "name": "Untitled4.ipynb",
      "version": "0.3.2",
      "provenance": [],
      "collapsed_sections": []
    },
    "kernelspec": {
      "name": "python2",
      "display_name": "Python 2"
    }
  },
  "cells": [
    {
      "metadata": {
        "id": "YWEaQrrWwm6B",
        "colab_type": "code",
        "colab": {}
      },
      "cell_type": "code",
      "source": [
        "!wget http://opendata.deepsig.io/datasets/2016.10/RML2016.10b.tar.bz2"
      ],
      "execution_count": 0,
      "outputs": []
    },
    {
      "metadata": {
        "id": "8FOd5vSbwvnM",
        "colab_type": "code",
        "colab": {}
      },
      "cell_type": "code",
      "source": [
        "import tarfile\n",
        "tar = tarfile.open(\"RML2016.10b.tar.bz2\", \"r:bz2\")\n",
        "tar.extractall()\n",
        "tar.close()"
      ],
      "execution_count": 0,
      "outputs": []
    },
    {
      "metadata": {
        "id": "2YBu7kx5mIM9",
        "colab_type": "code",
        "colab": {}
      },
      "cell_type": "code",
      "source": [
        "import keras\n",
        "import numpy as np\n",
        "import theano as th\n",
        "import pickle\n",
        "from keras.models import Sequential\n",
        "from keras.layers import Dense, Reshape, Flatten\n",
        "from sklearn import preprocessing\n",
        "from keras import optimizers\n",
        "from keras.callbacks import EarlyStopping\n",
        "import matplotlib.pyplot as plt"
      ],
      "execution_count": 0,
      "outputs": []
    },
    {
      "metadata": {
        "id": "b9HkR4I0mOk0",
        "colab_type": "code",
        "colab": {}
      },
      "cell_type": "code",
      "source": [
        "# Load the dataset ...\n",
        "#  You will need to seperately download or generate this file\n",
        "Xd = pickle.load(open(\"RML2016.10b.dat\",'rb'))\n",
        "snrs,mods = map(lambda j: sorted(list(set(map(lambda x: x[j], Xd.keys())))), [1,0])\n",
        "X = []  \n",
        "lbl = []\n",
        "for mod in mods:\n",
        "    for snr in snrs:\n",
        "        X.append(Xd[(mod,snr)])\n",
        "        for i in range(Xd[(mod,snr)].shape[0]):  lbl.append((mod,snr))\n",
        "X = np.vstack(X)"
      ],
      "execution_count": 0,
      "outputs": []
    },
    {
      "metadata": {
        "id": "cUp3qcLV_ktH",
        "colab_type": "code",
        "colab": {}
      },
      "cell_type": "code",
      "source": [
        "X1 = np.apply_along_axis(np.gradient, 1, X)"
      ],
      "execution_count": 0,
      "outputs": []
    },
    {
      "metadata": {
        "id": "cd2CSqqPQSZ7",
        "colab_type": "code",
        "colab": {}
      },
      "cell_type": "code",
      "source": [
        "newDataSet=[]\n",
        "for i in range (len(X)):\n",
        "     newDataSet.append(np.vstack((X[i], X1[i])))\n",
        "newDataSet = np.array(newDataSet)    "
      ],
      "execution_count": 0,
      "outputs": []
    },
    {
      "metadata": {
        "id": "JXjkKsStwdJw",
        "colab_type": "code",
        "colab": {}
      },
      "cell_type": "code",
      "source": [
        "print X1.shape\n",
        "print X.shape\n",
        "print newDataSet.shape\n",
        "#print X[0][0]\n",
        "#print X1[0][0]\n",
        "print lbl[2]\n",
        "#print X[2]"
      ],
      "execution_count": 0,
      "outputs": []
    },
    {
      "metadata": {
        "id": "tKPn-41fxMZv",
        "colab_type": "code",
        "colab": {}
      },
      "cell_type": "code",
      "source": [
        "#spliting data even odd 50%\n",
        "def splitData(X):\n",
        "  #for even\n",
        "  trainingSet = X[::2] \n",
        "  #for odd\n",
        "  testSet = X[1::2] \n",
        "  trainingLabel = np.array(lbl[::2])\n",
        "  testLabel = np.array(lbl[1::2])\n",
        "  #validationSet = testSet[0:30000]\n",
        "  lb = preprocessing.LabelBinarizer()\n",
        "  label = lb.fit_transform(trainingLabel[:,0])\n",
        "  \n",
        "  #print trainingSet[0]\n",
        "  #print testSet[0]\n",
        "  print label[0]\n",
        "  print label.shape\n",
        "  print trainingSet.shape\n",
        "  print testSet.shape\n",
        "  print trainingLabel.shape\n",
        "  print testLabel.shape\n",
        "  #print validationSet.shape\n",
        "  return trainingSet, testSet, trainingLabel, testLabel, label "
      ],
      "execution_count": 0,
      "outputs": []
    },
    {
      "metadata": {
        "id": "GiIwDwFlOIe-",
        "colab_type": "code",
        "colab": {}
      },
      "cell_type": "code",
      "source": [
        "trainingSet, testSet, trainingLabel, testLabel, label = splitData(newDataSet)"
      ],
      "execution_count": 0,
      "outputs": []
    },
    {
      "metadata": {
        "id": "c8h-zaATAUeg",
        "colab_type": "code",
        "colab": {}
      },
      "cell_type": "code",
      "source": [
        "model = Sequential()\n",
        "model.add(Dense(512, input_shape=(4,128), activation='relu'))\n",
        "model.add(Dense(256, activation='relu'))\n",
        "model.add(Flatten())\n",
        "model.add(Dense(10, activation='softmax'))\n",
        "model.compile(loss='categorical_crossentropy', optimizer='adam', metrics=['accuracy'])\n",
        "model.summary()\n",
        "# Fit the model\n",
        "history = model.fit(trainingSet, label, epochs=60, batch_size=20, validation_split=0.005, callbacks=[EarlyStopping(patience=5,  mode='min')])"
      ],
      "execution_count": 0,
      "outputs": []
    },
    {
      "metadata": {
        "id": "b-KD6-_EGrDf",
        "colab_type": "code",
        "colab": {}
      },
      "cell_type": "code",
      "source": [
        "plt.figure()\n",
        "plt.title('Training performance')\n",
        "plt.plot(history.epoch, history.history['loss'], label='Loss')\n",
        "plt.plot(history.epoch, history.history['val_loss'], label='validation error')\n",
        "plt.plot(history.epoch, history.history['acc'], label='accuracy')\n",
        "plt.plot(history.epoch, history.history['val_acc'], label='validation accuracy')\n",
        "plt.legend()"
      ],
      "execution_count": 0,
      "outputs": []
    },
    {
      "metadata": {
        "id": "zELjGS-Pf2vJ",
        "colab_type": "code",
        "colab": {}
      },
      "cell_type": "code",
      "source": [
        ""
      ],
      "execution_count": 0,
      "outputs": []
    }
  ]
}