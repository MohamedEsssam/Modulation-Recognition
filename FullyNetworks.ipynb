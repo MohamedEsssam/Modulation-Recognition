{
  "nbformat": 4,
  "nbformat_minor": 0,
  "metadata": {
    "colab": {
      "name": "Untitled4.ipynb",
      "version": "0.3.2",
      "provenance": [],
      "collapsed_sections": []
    },
    "kernelspec": {
      "name": "python2",
      "display_name": "Python 2"
    }
  },
  "cells": [
    {
      "metadata": {
        "id": "YWEaQrrWwm6B",
        "colab_type": "code",
        "colab": {}
      },
      "cell_type": "code",
      "source": [
        "!wget http://opendata.deepsig.io/datasets/2016.10/RML2016.10b.tar.bz2"
      ],
      "execution_count": 0,
      "outputs": []
    },
    {
      "metadata": {
        "id": "8FOd5vSbwvnM",
        "colab_type": "code",
        "colab": {}
      },
      "cell_type": "code",
      "source": [
        "import tarfile\n",
        "tar = tarfile.open(\"RML2016.10b.tar.bz2\", \"r:bz2\")\n",
        "tar.extractall()\n",
        "tar.close()"
      ],
      "execution_count": 0,
      "outputs": []
    },
    {
      "metadata": {
        "id": "2YBu7kx5mIM9",
        "colab_type": "code",
        "colab": {}
      },
      "cell_type": "code",
      "source": [
        "import keras\n",
        "import numpy as np\n",
        "import theano as th\n",
        "import pickle\n",
        "from keras.models import Sequential\n",
        "from keras.layers import Dense, Reshape, Flatten\n",
        "from sklearn import preprocessing\n",
        "from keras import optimizers\n",
        "from keras.callbacks import EarlyStopping\n",
        "import matplotlib.pyplot as plt\n",
        "from scipy import integrate"
      ],
      "execution_count": 0,
      "outputs": []
    },
    {
      "metadata": {
        "id": "b9HkR4I0mOk0",
        "colab_type": "code",
        "colab": {}
      },
      "cell_type": "code",
      "source": [
        "# Load the dataset ...\n",
        "#  You will need to seperately download or generate this file\n",
        "Xd = pickle.load(open(\"RML2016.10b.dat\",'rb'))\n",
        "snrs,mods = map(lambda j: sorted(list(set(map(lambda x: x[j], Xd.keys())))), [1,0])\n",
        "X = []  \n",
        "lbl = []\n",
        "for mod in mods:\n",
        "    for snr in snrs:\n",
        "        X.append(Xd[(mod,snr)])\n",
        "        for i in range(Xd[(mod,snr)].shape[0]):  lbl.append((mod,snr))\n",
        "X = np.vstack(X)"
      ],
      "execution_count": 0,
      "outputs": []
    },
    {
      "metadata": {
        "id": "cUp3qcLV_ktH",
        "colab_type": "code",
        "colab": {}
      },
      "cell_type": "code",
      "source": [
        "# make 1's diff\n",
        "X1 = np.apply_along_axis(np.gradient, 1, X)"
      ],
      "execution_count": 0,
      "outputs": []
    },
    {
      "metadata": {
        "id": "9cnPNGiQYCbw",
        "colab_type": "code",
        "colab": {}
      },
      "cell_type": "code",
      "source": [
        "# make integration \n",
        "X2 = np.apply_along_axis(integrate.cumtrapz, 1, X)"
      ],
      "execution_count": 0,
      "outputs": []
    },
    {
      "metadata": {
        "id": "cd2CSqqPQSZ7",
        "colab_type": "code",
        "colab": {}
      },
      "cell_type": "code",
      "source": [
        "newDataSet=[]\n",
        "for i in range (len(X)):\n",
        "     newDataSet.append(np.vstack((X[i], X1[i])))\n",
        "newDataSet = np.array(newDataSet)    "
      ],
      "execution_count": 0,
      "outputs": []
    },
    {
      "metadata": {
        "id": "-Fka0Ah7ayyv",
        "colab_type": "code",
        "colab": {}
      },
      "cell_type": "code",
      "source": [
        "newDataSet1=[]\n",
        "for i in range (len(X)):\n",
        "     newDataSet1.append(np.vstack((newDataSet1[i], X2[i])))\n",
        "newDataSet1 = np.array(newDataSet1)    "
      ],
      "execution_count": 0,
      "outputs": []
    },
    {
      "metadata": {
        "id": "JXjkKsStwdJw",
        "colab_type": "code",
        "colab": {
          "base_uri": "https://localhost:8080/",
          "height": 85
        },
        "outputId": "7c18da3a-4c35-48a9-d39f-dada34d74779"
      },
      "cell_type": "code",
      "source": [
        "print X1.shape\n",
        "print X.shape\n",
        "print newDataSet.shape\n",
        "print newDataSet1.shape\n",
        "#print X[0][0]\n",
        "#print X1[0][0]\n",
        "print lbl[2]\n",
        "#print X[2]"
      ],
      "execution_count": 41,
      "outputs": [
        {
          "output_type": "stream",
          "text": [
            "(1200000, 2, 128)\n",
            "(1200000, 2, 128)\n",
            "(1200000, 4, 128)\n",
            "('8PSK', -20)\n"
          ],
          "name": "stdout"
        }
      ]
    },
    {
      "metadata": {
        "id": "tKPn-41fxMZv",
        "colab_type": "code",
        "colab": {}
      },
      "cell_type": "code",
      "source": [
        "#spliting data even odd 50%\n",
        "def splitData(X):\n",
        "  #for even\n",
        "  trainingSet = X[::2] \n",
        "  #for odd\n",
        "  testSet = X[1::2] \n",
        "  trainingLabel = np.array(lbl[::2])\n",
        "  testLabel = np.array(lbl[1::2])\n",
        "  #validationSet = testSet[0:30000]\n",
        "  lb = preprocessing.LabelBinarizer()\n",
        "  label = lb.fit_transform(trainingLabel[:,0])\n",
        "  \n",
        "  #print trainingSet[0]\n",
        "  #print testSet[0]\n",
        "  print label[0]\n",
        "  print label.shape\n",
        "  print trainingSet.shape\n",
        "  print testSet.shape\n",
        "  print trainingLabel.shape\n",
        "  print testLabel.shape\n",
        "  #print validationSet.shape\n",
        "  return trainingSet, testSet, trainingLabel, testLabel, label "
      ],
      "execution_count": 0,
      "outputs": []
    },
    {
      "metadata": {
        "id": "GiIwDwFlOIe-",
        "colab_type": "code",
        "colab": {
          "base_uri": "https://localhost:8080/",
          "height": 119
        },
        "outputId": "342dabf4-b7db-4cd1-d693-9fbeee88ad61"
      },
      "cell_type": "code",
      "source": [
        "trainingSet, testSet, trainingLabel, testLabel, label = splitData(newDataSet)"
      ],
      "execution_count": 42,
      "outputs": [
        {
          "output_type": "stream",
          "text": [
            "[1 0 0 0 0 0 0 0 0 0]\n",
            "(600000, 10)\n",
            "(600000, 4, 128)\n",
            "(600000, 4, 128)\n",
            "(600000, 2)\n",
            "(600000, 2)\n"
          ],
          "name": "stdout"
        }
      ]
    },
    {
      "metadata": {
        "id": "c8h-zaATAUeg",
        "colab_type": "code",
        "colab": {
          "base_uri": "https://localhost:8080/",
          "height": 683
        },
        "outputId": "f5b27217-ac7d-4bab-94d2-df757c209e70"
      },
      "cell_type": "code",
      "source": [
        "model = Sequential()\n",
        "model.add(Dense(512, input_shape=(4,128), activation='relu'))\n",
        "model.add(Dense(256, activation='relu'))\n",
        "model.add(Flatten())\n",
        "model.add(Dense(10, activation='softmax'))\n",
        "model.compile(loss='categorical_crossentropy', optimizer='adam', metrics=['accuracy'])\n",
        "model.summary()\n",
        "# Fit the model\n",
        "history = model.fit(trainingSet, label, epochs=60, batch_size=20, validation_split=0.05, callbacks=[EarlyStopping(patience=5,  mode='min')])"
      ],
      "execution_count": 43,
      "outputs": [
        {
          "output_type": "stream",
          "text": [
            "_________________________________________________________________\n",
            "Layer (type)                 Output Shape              Param #   \n",
            "=================================================================\n",
            "dense_4 (Dense)              (None, 4, 512)            66048     \n",
            "_________________________________________________________________\n",
            "dense_5 (Dense)              (None, 4, 256)            131328    \n",
            "_________________________________________________________________\n",
            "flatten_2 (Flatten)          (None, 1024)              0         \n",
            "_________________________________________________________________\n",
            "dense_6 (Dense)              (None, 10)                10250     \n",
            "=================================================================\n",
            "Total params: 207,626\n",
            "Trainable params: 207,626\n",
            "Non-trainable params: 0\n",
            "_________________________________________________________________\n",
            "Train on 597000 samples, validate on 3000 samples\n",
            "Epoch 1/60\n",
            "597000/597000 [==============================] - 205s 344us/step - loss: 1.4801 - acc: 0.3949 - val_loss: 0.5193 - val_acc: 0.7733\n",
            "Epoch 2/60\n",
            "597000/597000 [==============================] - 214s 359us/step - loss: 1.3517 - acc: 0.4419 - val_loss: 0.7112 - val_acc: 0.3897\n",
            "Epoch 3/60\n",
            "597000/597000 [==============================] - 219s 367us/step - loss: 1.2459 - acc: 0.4833 - val_loss: 0.6288 - val_acc: 0.3990\n",
            "Epoch 4/60\n",
            "597000/597000 [==============================] - 221s 369us/step - loss: 1.1908 - acc: 0.5034 - val_loss: 0.5181 - val_acc: 0.4587\n",
            "Epoch 5/60\n",
            "597000/597000 [==============================] - 212s 355us/step - loss: 1.1638 - acc: 0.5152 - val_loss: 0.7383 - val_acc: 0.3880\n",
            "Epoch 6/60\n",
            "597000/597000 [==============================] - 202s 338us/step - loss: 1.1453 - acc: 0.5249 - val_loss: 0.4739 - val_acc: 0.5030\n",
            "Epoch 7/60\n",
            "597000/597000 [==============================] - 192s 322us/step - loss: 1.1300 - acc: 0.5318 - val_loss: 0.6119 - val_acc: 0.4010\n",
            "Epoch 8/60\n",
            "597000/597000 [==============================] - 190s 318us/step - loss: 1.1182 - acc: 0.5367 - val_loss: 0.5518 - val_acc: 0.4187\n",
            "Epoch 9/60\n",
            "597000/597000 [==============================] - 193s 324us/step - loss: 1.1075 - acc: 0.5420 - val_loss: 0.5878 - val_acc: 0.4447\n",
            "Epoch 10/60\n",
            "597000/597000 [==============================] - 193s 323us/step - loss: 1.0983 - acc: 0.5465 - val_loss: 0.5785 - val_acc: 0.4130\n",
            "Epoch 11/60\n",
            "597000/597000 [==============================] - 201s 337us/step - loss: 1.0906 - acc: 0.5499 - val_loss: 0.5727 - val_acc: 0.4143\n"
          ],
          "name": "stdout"
        }
      ]
    },
    {
      "metadata": {
        "id": "b-KD6-_EGrDf",
        "colab_type": "code",
        "colab": {
          "base_uri": "https://localhost:8080/",
          "height": 298
        },
        "outputId": "044f34dd-096d-4aaf-a352-5e1c04a620f4"
      },
      "cell_type": "code",
      "source": [
        "plt.figure()\n",
        "plt.title('Training performance')\n",
        "plt.plot(history.epoch, history.history['loss'], label='Loss')\n",
        "plt.plot(history.epoch, history.history['val_loss'], label='validation error')\n",
        "plt.plot(history.epoch, history.history['acc'], label='accuracy')\n",
        "plt.plot(history.epoch, history.history['val_acc'], label='validation accuracy')\n",
        "plt.legend()"
      ],
      "execution_count": 44,
      "outputs": [
        {
          "output_type": "execute_result",
          "data": {
            "text/plain": [
              "<matplotlib.legend.Legend at 0x7f1aedab9f90>"
            ]
          },
          "metadata": {
            "tags": []
          },
          "execution_count": 44
        },
        {
          "output_type": "display_data",
          "data": {
            "image/png": "[encoded data removed]",
            "text/plain": [
              "<Figure size 432x288 with 1 Axes>"
            ]
          },
          "metadata": {
            "tags": []
          }
        }
      ]
    },
    {
      "metadata": {
        "id": "P1EGGEcofCLN",
        "colab_type": "code",
        "colab": {}
      },
      "cell_type": "code",
      "source": [
        ""
      ],
      "execution_count": 0,
      "outputs": []
    }
  ]
}