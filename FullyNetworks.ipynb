{
  "nbformat": 4,
  "nbformat_minor": 0,
  "metadata": {
    "colab": {
      "name": "Untitled4.ipynb",
      "version": "0.3.2",
      "provenance": [],
      "collapsed_sections": []
    },
    "kernelspec": {
      "name": "python2",
      "display_name": "Python 2"
    }
  },
  "cells": [
    {
      "metadata": {
        "id": "YWEaQrrWwm6B",
        "colab_type": "code",
        "outputId": "ed20bdce-e754-4f1a-f5f3-b146e3c749b7",
        "colab": {
          "base_uri": "https://localhost:8080/",
          "height": 204
        }
      },
      "cell_type": "code",
      "source": [
        "!wget http://opendata.deepsig.io/datasets/2016.10/RML2016.10b.tar.bz2"
      ],
      "execution_count": 0,
      "outputs": [
        {
          "output_type": "stream",
          "text": [
            "--2019-04-29 10:54:56--  http://opendata.deepsig.io/datasets/2016.10/RML2016.10b.tar.bz2\n",
            "Resolving opendata.deepsig.io (opendata.deepsig.io)... 52.14.91.165\n",
            "Connecting to opendata.deepsig.io (opendata.deepsig.io)|52.14.91.165|:80... connected.\n",
            "HTTP request sent, awaiting response... 200 OK\n",
            "Length: 1245608913 (1.2G) [application/x-bzip2]\n",
            "Saving to: ‘RML2016.10b.tar.bz2’\n",
            "\n",
            "RML2016.10b.tar.bz2 100%[===================>]   1.16G  7.30MB/s    in 2m 6s   \n",
            "\n",
            "2019-04-29 10:57:08 (9.42 MB/s) - ‘RML2016.10b.tar.bz2’ saved [1245608913/1245608913]\n",
            "\n"
          ],
          "name": "stdout"
        }
      ]
    },
    {
      "metadata": {
        "id": "8FOd5vSbwvnM",
        "colab_type": "code",
        "colab": {}
      },
      "cell_type": "code",
      "source": [
        "import tarfile\n",
        "tar = tarfile.open(\"RML2016.10b.tar.bz2\", \"r:bz2\")\n",
        "tar.extractall()\n",
        "tar.close()"
      ],
      "execution_count": 0,
      "outputs": []
    },
    {
      "metadata": {
        "id": "2YBu7kx5mIM9",
        "colab_type": "code",
        "outputId": "bcae78bb-e430-46c3-c826-5292d409b7c3",
        "colab": {
          "base_uri": "https://localhost:8080/",
          "height": 34
        }
      },
      "cell_type": "code",
      "source": [
        "import keras\n",
        "import numpy as np\n",
        "import theano as th\n",
        "import pickle\n",
        "from keras.models import Sequential\n",
        "from keras.layers import Dense, Reshape, Flatten\n",
        "from sklearn import preprocessing\n",
        "from keras import optimizers\n",
        "from keras.callbacks import EarlyStopping\n",
        "import matplotlib.pyplot as plt"
      ],
      "execution_count": 0,
      "outputs": [
        {
          "output_type": "stream",
          "text": [
            "Using TensorFlow backend.\n"
          ],
          "name": "stderr"
        }
      ]
    },
    {
      "metadata": {
        "id": "b9HkR4I0mOk0",
        "colab_type": "code",
        "colab": {}
      },
      "cell_type": "code",
      "source": [
        "# Load the dataset ...\n",
        "#  You will need to seperately download or generate this file\n",
        "Xd = pickle.load(open(\"RML2016.10b.dat\",'rb'))\n",
        "snrs,mods = map(lambda j: sorted(list(set(map(lambda x: x[j], Xd.keys())))), [1,0])\n",
        "X = []  \n",
        "lbl = []\n",
        "for mod in mods:\n",
        "    for snr in snrs:\n",
        "        X.append(Xd[(mod,snr)])\n",
        "        for i in range(Xd[(mod,snr)].shape[0]):  lbl.append((mod,snr))\n",
        "X = np.vstack(X)"
      ],
      "execution_count": 0,
      "outputs": []
    },
    {
      "metadata": {
        "id": "cUp3qcLV_ktH",
        "colab_type": "code",
        "colab": {}
      },
      "cell_type": "code",
      "source": [
        "X1 = np.apply_along_axis(np.gradient, 1, X)\n",
        "for i in range(len(X)):\n",
        "  X[i] = X[i] + X1[i]"
      ],
      "execution_count": 0,
      "outputs": []
    },
    {
      "metadata": {
        "id": "JXjkKsStwdJw",
        "colab_type": "code",
        "outputId": "d418e98c-ec20-47eb-fb55-2429fa74388a",
        "colab": {
          "base_uri": "https://localhost:8080/",
          "height": 51
        }
      },
      "cell_type": "code",
      "source": [
        "print X.shape\n",
        "print lbl[2]\n",
        "#print X[2]"
      ],
      "execution_count": 26,
      "outputs": [
        {
          "output_type": "stream",
          "text": [
            "(1200000, 2, 128)\n",
            "('8PSK', -20)\n"
          ],
          "name": "stdout"
        }
      ]
    },
    {
      "metadata": {
        "id": "tKPn-41fxMZv",
        "colab_type": "code",
        "colab": {}
      },
      "cell_type": "code",
      "source": [
        "#spliting data even odd 50%\n",
        "def splitData(X):\n",
        "  #for even\n",
        "  trainingSet = X[::2] \n",
        "  #for odd\n",
        "  testSet = X[1::2] \n",
        "  trainingLabel = np.array(lbl[::2])\n",
        "  testLabel = np.array(lbl[1::2])\n",
        "  #validationSet = testSet[0:30000]\n",
        "  lb = preprocessing.LabelBinarizer()\n",
        "  label = lb.fit_transform(trainingLabel[:,0])\n",
        "  \n",
        "  #print trainingSet[0]\n",
        "  #print testSet[0]\n",
        "  print label[0]\n",
        "  print label.shape\n",
        "  print trainingSet.shape\n",
        "  print testSet.shape\n",
        "  print trainingLabel.shape\n",
        "  print testLabel.shape\n",
        "  #print validationSet.shape\n",
        "  return trainingSet, testSet, trainingLabel, testLabel, label "
      ],
      "execution_count": 0,
      "outputs": []
    },
    {
      "metadata": {
        "id": "GiIwDwFlOIe-",
        "colab_type": "code",
        "outputId": "5094dcfb-b018-45eb-b3c5-ae981fe40eeb",
        "colab": {
          "base_uri": "https://localhost:8080/",
          "height": 119
        }
      },
      "cell_type": "code",
      "source": [
        "trainingSet, testSet, trainingLabel, testLabel, label = splitData(X)"
      ],
      "execution_count": 0,
      "outputs": [
        {
          "output_type": "stream",
          "text": [
            "[1 0 0 0 0 0 0 0 0 0]\n",
            "(600000, 10)\n",
            "(600000, 2, 128)\n",
            "(600000, 2, 128)\n",
            "(600000, 2)\n",
            "(600000, 2)\n"
          ],
          "name": "stdout"
        }
      ]
    },
    {
      "metadata": {
        "id": "c8h-zaATAUeg",
        "colab_type": "code",
        "outputId": "5a7db5ba-2d3d-404f-a1da-765a6d8cbe34",
        "colab": {
          "base_uri": "https://localhost:8080/",
          "height": 581
        }
      },
      "cell_type": "code",
      "source": [
        "model = Sequential()\n",
        "model.add(Dense(512, input_shape=(2,128), activation='relu'))\n",
        "model.add(Dense(256, activation='relu'))\n",
        "model.add(Flatten())\n",
        "model.add(Dense(10, activation='softmax'))\n",
        "model.compile(loss='categorical_crossentropy', optimizer='adam', metrics=['accuracy'])\n",
        "model.summary()\n",
        "# Fit the model\n",
        "history = model.fit(trainingSet, label, epochs=60, batch_size=20, validation_split=0.005, callbacks=[EarlyStopping(patience=5,  mode='min')])"
      ],
      "execution_count": 0,
      "outputs": [
        {
          "output_type": "stream",
          "text": [
            "_________________________________________________________________\n",
            "Layer (type)                 Output Shape              Param #   \n",
            "=================================================================\n",
            "dense_67 (Dense)             (None, 2, 512)            66048     \n",
            "_________________________________________________________________\n",
            "dense_68 (Dense)             (None, 2, 256)            131328    \n",
            "_________________________________________________________________\n",
            "flatten_23 (Flatten)         (None, 512)               0         \n",
            "_________________________________________________________________\n",
            "dense_69 (Dense)             (None, 10)                5130      \n",
            "=================================================================\n",
            "Total params: 202,506\n",
            "Trainable params: 202,506\n",
            "Non-trainable params: 0\n",
            "_________________________________________________________________\n",
            "Train on 597000 samples, validate on 3000 samples\n",
            "Epoch 1/60\n",
            "597000/597000 [==============================] - 191s 320us/step - loss: 1.5330 - acc: 0.3765 - val_loss: 0.7305 - val_acc: 0.3377\n",
            "Epoch 2/60\n",
            "597000/597000 [==============================] - 185s 310us/step - loss: 1.4436 - acc: 0.4120 - val_loss: 0.6367 - val_acc: 0.4007\n",
            "Epoch 3/60\n",
            "597000/597000 [==============================] - 198s 331us/step - loss: 1.4054 - acc: 0.4306 - val_loss: 0.3529 - val_acc: 0.9317\n",
            "Epoch 4/60\n",
            "597000/597000 [==============================] - 191s 320us/step - loss: 1.3491 - acc: 0.4553 - val_loss: 0.6122 - val_acc: 0.4063\n",
            "Epoch 5/60\n",
            "597000/597000 [==============================] - 197s 330us/step - loss: 1.3137 - acc: 0.4682 - val_loss: 0.6175 - val_acc: 0.4040\n",
            "Epoch 6/60\n",
            "597000/597000 [==============================] - 197s 330us/step - loss: 1.2934 - acc: 0.4761 - val_loss: 0.7015 - val_acc: 0.4110\n",
            "Epoch 7/60\n",
            "597000/597000 [==============================] - 199s 333us/step - loss: 1.2797 - acc: 0.4816 - val_loss: 0.6094 - val_acc: 0.4073\n",
            "Epoch 8/60\n",
            "597000/597000 [==============================] - 198s 332us/step - loss: 1.2686 - acc: 0.4859 - val_loss: 0.6848 - val_acc: 0.3957\n"
          ],
          "name": "stdout"
        }
      ]
    },
    {
      "metadata": {
        "id": "b-KD6-_EGrDf",
        "colab_type": "code",
        "outputId": "f13939a0-896f-4f66-edf3-1b7b7331c8fa",
        "colab": {
          "base_uri": "https://localhost:8080/",
          "height": 298
        }
      },
      "cell_type": "code",
      "source": [
        "plt.figure()\n",
        "plt.title('Training performance')\n",
        "plt.plot(history.epoch, history.history['loss'], label='train loss+error')\n",
        "plt.plot(history.epoch, history.history['val_loss'], label='val_error')\n",
        "plt.plot(history.epoch, history.history['acc'], label='accuracy')\n",
        "plt.plot(history.epoch, history.history['val_acc'], label='val_acc')\n",
        "plt.legend()"
      ],
      "execution_count": 0,
      "outputs": [
        {
          "output_type": "execute_result",
          "data": {
            "text/plain": [
              "<matplotlib.legend.Legend at 0x7f970faf5510>"
            ]
          },
          "metadata": {
            "tags": []
          },
          "execution_count": 48
        },
        {
          "output_type": "display_data",
          "data": {
            "image/png": "[encoded data removed]",
            "text/plain": [
              "<Figure size 432x288 with 1 Axes>"
            ]
          },
          "metadata": {
            "tags": []
          }
        }
      ]
    },
    {
      "metadata": {
        "id": "zELjGS-Pf2vJ",
        "colab_type": "code",
        "colab": {}
      },
      "cell_type": "code",
      "source": [
        ""
      ],
      "execution_count": 0,
      "outputs": []
    }
  ]
}