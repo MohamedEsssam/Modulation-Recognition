{
  "nbformat": 4,
  "nbformat_minor": 0,
  "metadata": {
    "colab": {
      "name": "Untitled4.ipynb",
      "version": "0.3.2",
      "provenance": [],
      "collapsed_sections": []
    },
    "kernelspec": {
      "name": "python2",
      "display_name": "Python 2"
    }
  },
  "cells": [
    {
      "cell_type": "code",
      "metadata": {
        "id": "YWEaQrrWwm6B",
        "colab_type": "code",
        "outputId": "45275745-c109-4442-ab76-150210d529dd",
        "colab": {
          "base_uri": "https://localhost:8080/",
          "height": 204
        }
      },
      "source": [
        "!wget http://opendata.deepsig.io/datasets/2016.10/RML2016.10b.tar.bz2"
      ],
      "execution_count": 1,
      "outputs": [
        {
          "output_type": "stream",
          "text": [
            "--2019-05-03 18:36:27--  http://opendata.deepsig.io/datasets/2016.10/RML2016.10b.tar.bz2\n",
            "Resolving opendata.deepsig.io (opendata.deepsig.io)... 52.14.91.165\n",
            "Connecting to opendata.deepsig.io (opendata.deepsig.io)|52.14.91.165|:80... connected.\n",
            "HTTP request sent, awaiting response... 200 OK\n",
            "Length: 1245608913 (1.2G) [application/x-bzip2]\n",
            "Saving to: ‘RML2016.10b.tar.bz2’\n",
            "\n",
            "RML2016.10b.tar.bz2 100%[===================>]   1.16G  12.4MB/s    in 82s     \n",
            "\n",
            "2019-05-03 18:37:49 (14.5 MB/s) - ‘RML2016.10b.tar.bz2’ saved [1245608913/1245608913]\n",
            "\n"
          ],
          "name": "stdout"
        }
      ]
    },
    {
      "cell_type": "code",
      "metadata": {
        "id": "8FOd5vSbwvnM",
        "colab_type": "code",
        "colab": {}
      },
      "source": [
        "import tarfile\n",
        "tar = tarfile.open(\"RML2016.10b.tar.bz2\", \"r:bz2\")\n",
        "tar.extractall()\n",
        "tar.close()"
      ],
      "execution_count": 0,
      "outputs": []
    },
    {
      "cell_type": "code",
      "metadata": {
        "id": "2YBu7kx5mIM9",
        "colab_type": "code",
        "colab": {}
      },
      "source": [
        "import keras\n",
        "import numpy as np\n",
        "import theano as th\n",
        "import pickle\n",
        "from keras.models import Sequential\n",
        "from keras.layers import Dense, Reshape, Flatten\n",
        "from sklearn import preprocessing\n",
        "from keras import optimizers\n",
        "from keras.callbacks import EarlyStopping\n",
        "import matplotlib.pyplot as plt\n",
        "import matplotlib as mpl\n",
        "from scipy import integrate\n",
        "from sklearn.model_selection import train_test_split\n",
        "from sklearn.preprocessing import LabelEncoder\n",
        "from sklearn.preprocessing import OneHotEncoder\n",
        "import gc"
      ],
      "execution_count": 0,
      "outputs": []
    },
    {
      "cell_type": "code",
      "metadata": {
        "id": "b9HkR4I0mOk0",
        "colab_type": "code",
        "colab": {}
      },
      "source": [
        "# Load the dataset ...\n",
        "#  You will need to seperately download or generate this file\n",
        "Xd = pickle.load(open(\"RML2016.10b.dat\",'rb'))\n",
        "snrs,mods = map(lambda j: sorted(list(set(map(lambda x: x[j], Xd.keys())))), [1,0])\n",
        "X = []  \n",
        "lbl = []\n",
        "for mod in mods:\n",
        "    for snr in snrs:\n",
        "        X.append(Xd[(mod,snr)])\n",
        "        for i in range(Xd[(mod,snr)].shape[0]):  lbl.append((mod,snr))\n",
        "X = np.vstack(X)"
      ],
      "execution_count": 0,
      "outputs": []
    },
    {
      "cell_type": "code",
      "metadata": {
        "id": "cUp3qcLV_ktH",
        "colab_type": "code",
        "colab": {}
      },
      "source": [
        "# make 1's diff\n",
        "#X1 = np.gradient(X, axis = 0)"
      ],
      "execution_count": 0,
      "outputs": []
    },
    {
      "cell_type": "code",
      "metadata": {
        "id": "9cnPNGiQYCbw",
        "colab_type": "code",
        "colab": {}
      },
      "source": [
        "# make integration \n",
        "#X2 = integrate.cumtrapz(X, None, initial=0)"
      ],
      "execution_count": 0,
      "outputs": []
    },
    {
      "cell_type": "code",
      "metadata": {
        "id": "cd2CSqqPQSZ7",
        "colab_type": "code",
        "colab": {}
      },
      "source": [
        "#newDataSet=[]\n",
        "#for i in range (len(X)):\n",
        "#    newDataSet.append(np.vstack((X[i], X1[i], X2[i])))\n",
        "#newDataSet = np.array(newDataSet)    "
      ],
      "execution_count": 0,
      "outputs": []
    },
    {
      "cell_type": "code",
      "metadata": {
        "id": "A3WQ2yRtu1PX",
        "colab_type": "code",
        "outputId": "d0276c2e-de2c-45df-862a-bccdeaa88fab",
        "colab": {
          "base_uri": "https://localhost:8080/",
          "height": 34
        }
      },
      "source": [
        "#del(X)\n",
        "#del(X1)\n",
        "#del(X2)\n",
        "#gc.collect()"
      ],
      "execution_count": 0,
      "outputs": [
        {
          "output_type": "execute_result",
          "data": {
            "text/plain": [
              "0"
            ]
          },
          "metadata": {
            "tags": []
          },
          "execution_count": 12
        }
      ]
    },
    {
      "cell_type": "code",
      "metadata": {
        "id": "JXjkKsStwdJw",
        "colab_type": "code",
        "outputId": "631fb606-7032-4576-f864-248d0b8c2dd3",
        "colab": {
          "base_uri": "https://localhost:8080/",
          "height": 68
        }
      },
      "source": [
        "#print X1.shape\n",
        "print X.shape\n",
        "print len (lbl)\n",
        "#print X2.shape\n",
        "#print newDataSet.shape\n",
        "#print X[0][0]\n",
        "#print X1[0][0]\n",
        "print lbl[2]\n",
        "#print X[2]"
      ],
      "execution_count": 7,
      "outputs": [
        {
          "output_type": "stream",
          "text": [
            "(1200000, 2, 128)\n",
            "1200000\n",
            "('8PSK', -20)\n"
          ],
          "name": "stdout"
        }
      ]
    },
    {
      "cell_type": "code",
      "metadata": {
        "id": "tKPn-41fxMZv",
        "colab_type": "code",
        "colab": {}
      },
      "source": [
        "#spliting data even odd 50%\n",
        "def splitData(X):\n",
        "  trainingSet, testSet, trainingLabel, testLabel = train_test_split(X, lbl, test_size = 0.5)\n",
        "  trainingLabel = [label[0] for label in trainingLabel]\n",
        "  testLabel = [label[0] for label in testLabel]\n",
        "\n",
        "  print(\"training data size: %d\" % len(trainingSet))\n",
        "  print(\"test data size: %d\" % len(testSet))\n",
        "  print(\"training data labels size: %d\" % len(trainingLabel))\n",
        "  print(\"test data labels size: %d\" % len(testLabel))\n",
        "  return trainingSet, testSet, trainingLabel, testLabel"
      ],
      "execution_count": 0,
      "outputs": []
    },
    {
      "cell_type": "code",
      "metadata": {
        "id": "GiIwDwFlOIe-",
        "colab_type": "code",
        "colab": {
          "base_uri": "https://localhost:8080/",
          "height": 85
        },
        "outputId": "b4554582-d04d-4ba8-841e-91713b13a79d"
      },
      "source": [
        "trainingSet, testSet, trainingLabel, testLabel = splitData(X)"
      ],
      "execution_count": 18,
      "outputs": [
        {
          "output_type": "stream",
          "text": [
            "training data size: 600000\n",
            "test data size: 600000\n",
            "training data labels size: 600000\n",
            "test data labels size: 600000\n"
          ],
          "name": "stdout"
        }
      ]
    },
    {
      "cell_type": "code",
      "metadata": {
        "id": "ifEoqUtfBjWU",
        "colab_type": "code",
        "colab": {}
      },
      "source": [
        "label_encoder = LabelEncoder()\n",
        "onehot_encoder = OneHotEncoder(sparse=False)\n",
        "\n",
        "\n",
        "training_integer_encoded = label_encoder.fit_transform(np.array(trainingLabel))\n",
        "training_integer_encoded = training_integer_encoded.reshape(len(training_integer_encoded), 1)\n",
        "trainingLabel = onehot_encoder.fit_transform(training_integer_encoded)\n",
        "\n",
        "\n",
        "test_integer_encoded = label_encoder.fit_transform(np.array(testLabel))\n",
        "test_integer_encoded = training_integer_encoded.reshape(len(test_integer_encoded), 1)\n",
        "testLabel = onehot_encoder.fit_transform(test_integer_encoded)"
      ],
      "execution_count": 0,
      "outputs": []
    },
    {
      "cell_type": "code",
      "metadata": {
        "id": "c8h-zaATAUeg",
        "colab_type": "code",
        "colab": {
          "base_uri": "https://localhost:8080/",
          "height": 1329
        },
        "outputId": "fc26be03-926c-435a-c95b-551eae9a0290"
      },
      "source": [
        "model = Sequential()\n",
        "model.add(Dense(512, input_shape=(2,128), activation='relu'))\n",
        "model.add(Dense(256, activation='relu'))\n",
        "model.add(Flatten())\n",
        "model.add(Dense(10, activation='softmax'))\n",
        "model.compile(loss='categorical_crossentropy', optimizer='adam', metrics=['accuracy'])\n",
        "model.summary()\n",
        "# Fit the model\n",
        "history = model.fit(trainingSet, trainingLabel, epochs=60, batch_size=64, validation_split=0.05, callbacks=[EarlyStopping(patience=5,  mode='min')])"
      ],
      "execution_count": 22,
      "outputs": [
        {
          "output_type": "stream",
          "text": [
            "WARNING:tensorflow:From /usr/local/lib/python2.7/dist-packages/tensorflow/python/framework/op_def_library.py:263: colocate_with (from tensorflow.python.framework.ops) is deprecated and will be removed in a future version.\n",
            "Instructions for updating:\n",
            "Colocations handled automatically by placer.\n",
            "_________________________________________________________________\n",
            "Layer (type)                 Output Shape              Param #   \n",
            "=================================================================\n",
            "dense_1 (Dense)              (None, 2, 512)            66048     \n",
            "_________________________________________________________________\n",
            "dense_2 (Dense)              (None, 2, 256)            131328    \n",
            "_________________________________________________________________\n",
            "flatten_1 (Flatten)          (None, 512)               0         \n",
            "_________________________________________________________________\n",
            "dense_3 (Dense)              (None, 10)                5130      \n",
            "=================================================================\n",
            "Total params: 202,506\n",
            "Trainable params: 202,506\n",
            "Non-trainable params: 0\n",
            "_________________________________________________________________\n",
            "WARNING:tensorflow:From /usr/local/lib/python2.7/dist-packages/tensorflow/python/ops/math_ops.py:3066: to_int32 (from tensorflow.python.ops.math_ops) is deprecated and will be removed in a future version.\n",
            "Instructions for updating:\n",
            "Use tf.cast instead.\n",
            "Train on 570000 samples, validate on 30000 samples\n",
            "Epoch 1/60\n",
            "570000/570000 [==============================] - 65s 114us/step - loss: 1.5757 - acc: 0.3642 - val_loss: 1.4924 - val_acc: 0.3865\n",
            "Epoch 2/60\n",
            "570000/570000 [==============================] - 64s 113us/step - loss: 1.4565 - acc: 0.4026 - val_loss: 1.4400 - val_acc: 0.4098\n",
            "Epoch 3/60\n",
            "570000/570000 [==============================] - 66s 115us/step - loss: 1.4239 - acc: 0.4200 - val_loss: 1.4085 - val_acc: 0.4249\n",
            "Epoch 4/60\n",
            "570000/570000 [==============================] - 65s 114us/step - loss: 1.3893 - acc: 0.4375 - val_loss: 1.3793 - val_acc: 0.4379\n",
            "Epoch 5/60\n",
            "570000/570000 [==============================] - 65s 115us/step - loss: 1.3529 - acc: 0.4535 - val_loss: 1.3641 - val_acc: 0.4492\n",
            "Epoch 6/60\n",
            "570000/570000 [==============================] - 64s 113us/step - loss: 1.3286 - acc: 0.4629 - val_loss: 1.3429 - val_acc: 0.4563\n",
            "Epoch 7/60\n",
            "570000/570000 [==============================] - 65s 115us/step - loss: 1.3092 - acc: 0.4708 - val_loss: 1.3267 - val_acc: 0.4650\n",
            "Epoch 8/60\n",
            "570000/570000 [==============================] - 66s 115us/step - loss: 1.2930 - acc: 0.4767 - val_loss: 1.3124 - val_acc: 0.4663\n",
            "Epoch 9/60\n",
            "570000/570000 [==============================] - 65s 115us/step - loss: 1.2789 - acc: 0.4822 - val_loss: 1.3036 - val_acc: 0.4690\n",
            "Epoch 10/60\n",
            "570000/570000 [==============================] - 64s 113us/step - loss: 1.2658 - acc: 0.4871 - val_loss: 1.3072 - val_acc: 0.4688\n",
            "Epoch 11/60\n",
            "570000/570000 [==============================] - 64s 112us/step - loss: 1.2534 - acc: 0.4912 - val_loss: 1.3009 - val_acc: 0.4721\n",
            "Epoch 12/60\n",
            "570000/570000 [==============================] - 65s 114us/step - loss: 1.2416 - acc: 0.4963 - val_loss: 1.2858 - val_acc: 0.4759\n",
            "Epoch 13/60\n",
            "570000/570000 [==============================] - 64s 113us/step - loss: 1.2283 - acc: 0.5010 - val_loss: 1.2747 - val_acc: 0.4810\n",
            "Epoch 14/60\n",
            "570000/570000 [==============================] - 65s 114us/step - loss: 1.2149 - acc: 0.5055 - val_loss: 1.2706 - val_acc: 0.4819\n",
            "Epoch 15/60\n",
            "570000/570000 [==============================] - 65s 113us/step - loss: 1.2026 - acc: 0.5104 - val_loss: 1.2601 - val_acc: 0.4830\n",
            "Epoch 16/60\n",
            "570000/570000 [==============================] - 64s 112us/step - loss: 1.1907 - acc: 0.5156 - val_loss: 1.2568 - val_acc: 0.4902\n",
            "Epoch 17/60\n",
            "570000/570000 [==============================] - 64s 112us/step - loss: 1.1796 - acc: 0.5195 - val_loss: 1.2703 - val_acc: 0.4813\n",
            "Epoch 18/60\n",
            "570000/570000 [==============================] - 63s 111us/step - loss: 1.1695 - acc: 0.5238 - val_loss: 1.2512 - val_acc: 0.4937\n",
            "Epoch 19/60\n",
            "570000/570000 [==============================] - 64s 113us/step - loss: 1.1601 - acc: 0.5276 - val_loss: 1.2500 - val_acc: 0.4910\n",
            "Epoch 20/60\n",
            "570000/570000 [==============================] - 64s 112us/step - loss: 1.1516 - acc: 0.5311 - val_loss: 1.2416 - val_acc: 0.4931\n",
            "Epoch 21/60\n",
            "570000/570000 [==============================] - 64s 112us/step - loss: 1.1431 - acc: 0.5350 - val_loss: 1.2447 - val_acc: 0.4876\n",
            "Epoch 22/60\n",
            "570000/570000 [==============================] - 65s 114us/step - loss: 1.1347 - acc: 0.5382 - val_loss: 1.2395 - val_acc: 0.4996\n",
            "Epoch 23/60\n",
            "570000/570000 [==============================] - 64s 112us/step - loss: 1.1275 - acc: 0.5414 - val_loss: 1.2488 - val_acc: 0.4936\n",
            "Epoch 24/60\n",
            "570000/570000 [==============================] - 64s 112us/step - loss: 1.1207 - acc: 0.5446 - val_loss: 1.2428 - val_acc: 0.4953\n",
            "Epoch 25/60\n",
            "570000/570000 [==============================] - 63s 111us/step - loss: 1.1141 - acc: 0.5469 - val_loss: 1.2458 - val_acc: 0.4962\n",
            "Epoch 26/60\n",
            "570000/570000 [==============================] - 64s 113us/step - loss: 1.1085 - acc: 0.5492 - val_loss: 1.2461 - val_acc: 0.4944\n",
            "Epoch 27/60\n",
            "570000/570000 [==============================] - 65s 114us/step - loss: 1.1024 - acc: 0.5522 - val_loss: 1.2489 - val_acc: 0.4958\n"
          ],
          "name": "stdout"
        }
      ]
    },
    {
      "cell_type": "code",
      "metadata": {
        "id": "-IA3xJo_jgIG",
        "colab_type": "code",
        "colab": {
          "base_uri": "https://localhost:8080/",
          "height": 34
        },
        "outputId": "de842ced-d5ba-4ecd-d386-260ba821116c"
      },
      "source": [
        "score = model.evaluate(testSet, testLabel, verbose=0, batch_size=60)\n",
        "print score"
      ],
      "execution_count": 26,
      "outputs": [
        {
          "output_type": "stream",
          "text": [
            "[7.852913689041138, 0.09992500277645885]\n"
          ],
          "name": "stdout"
        }
      ]
    },
    {
      "cell_type": "code",
      "metadata": {
        "id": "b-KD6-_EGrDf",
        "colab_type": "code",
        "colab": {
          "base_uri": "https://localhost:8080/",
          "height": 406
        },
        "outputId": "a7a7ed2a-45b5-4c52-d9ed-10c7ace3f74d"
      },
      "source": [
        "plt.figure(figsize=(8, 6))\n",
        "ax = plt.gca()\n",
        "plt.title('Training performance')\n",
        "plt.plot(history.epoch, history.history['loss'], label='Loss')\n",
        "plt.plot(history.epoch, history.history['val_loss'], label='validation error')\n",
        "plt.plot(history.epoch, history.history['acc'], label='accuracy')\n",
        "plt.plot(history.epoch, history.history['val_acc'], label='validation accuracy')\n",
        "plt.xlim((0,27))\n",
        "plt.ylim((0.3,1.6))\n",
        "plt.grid(True,color='white')\n",
        "plt.legend()"
      ],
      "execution_count": 98,
      "outputs": [
        {
          "output_type": "execute_result",
          "data": {
            "text/plain": [
              "<matplotlib.legend.Legend at 0x7f38daa1c7d0>"
            ]
          },
          "metadata": {
            "tags": []
          },
          "execution_count": 98
        },
        {
          "output_type": "display_data",
          "data": {
            "image/png": "[encoded data removed]",
            "text/plain": [
              "<Figure size 576x432 with 1 Axes>"
            ]
          },
          "metadata": {
            "tags": []
          }
        }
      ]
    }
  ]
}