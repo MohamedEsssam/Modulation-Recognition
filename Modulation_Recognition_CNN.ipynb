{
  "nbformat": 4,
  "nbformat_minor": 0,
  "metadata": {
    "colab": {
      "name": "Modulation Recognition CNN.ipynb",
      "version": "0.3.2",
      "provenance": [],
      "collapsed_sections": []
    },
    "kernelspec": {
      "name": "python2",
      "display_name": "Python 2"
    }
  },
  "cells": [
    {
      "metadata": {
        "id": "wNUPaNN8PCL9",
        "colab_type": "code",
        "colab": {
          "base_uri": "https://localhost:8080/",
          "height": 217
        },
        "outputId": "606bf1d3-1018-451b-ef6c-c9602408523f"
      },
      "cell_type": "code",
      "source": [
        "!wget http://opendata.deepsig.io/datasets/2016.10/RML2016.10b.tar.bz2"
      ],
      "execution_count": 26,
      "outputs": [
        {
          "output_type": "stream",
          "text": [
            "--2019-05-01 01:09:03--  http://opendata.deepsig.io/datasets/2016.10/RML2016.10b.tar.bz2\n",
            "Resolving opendata.deepsig.io (opendata.deepsig.io)... 52.14.91.165\n",
            "Connecting to opendata.deepsig.io (opendata.deepsig.io)|52.14.91.165|:80... connected.\n",
            "HTTP request sent, awaiting response... 200 OK\n",
            "Length: 1245608913 (1.2G) [application/x-bzip2]\n",
            "Saving to: ‘RML2016.10b.tar.bz2.1’\n",
            "\n",
            "RML2016.10b.tar.bz2 100%[===================>]   1.16G  8.91MB/s    in 1m 56s  \n",
            "\n",
            "2019-05-01 01:10:59 (10.2 MB/s) - ‘RML2016.10b.tar.bz2.1’ saved [1245608913/1245608913]\n",
            "\n"
          ],
          "name": "stdout"
        }
      ]
    },
    {
      "metadata": {
        "id": "qtiBUdFKMmgI",
        "colab_type": "code",
        "colab": {}
      },
      "cell_type": "code",
      "source": [
        "import tarfile\n",
        "tar = tarfile.open(\"RML2016.10b.tar.bz2\", \"r:bz2\")\n",
        "tar.extractall()\n",
        "tar.close()"
      ],
      "execution_count": 0,
      "outputs": []
    },
    {
      "metadata": {
        "id": "6JcmJARiN_70",
        "colab_type": "code",
        "colab": {}
      },
      "cell_type": "code",
      "source": [
        "import numpy as np\n",
        "import scipy.integrate as integrate\n",
        "from sklearn.model_selection import train_test_split\n",
        "import pickle\n",
        "import keras.models as models\n",
        "from keras.layers.convolutional import Convolution2D, ZeroPadding2D\n",
        "from keras.layers.core import Dense, Reshape, Flatten, Dropout\n",
        "from keras.callbacks import EarlyStopping, ModelCheckpoint\n",
        "from sklearn.preprocessing import LabelEncoder\n",
        "from sklearn.preprocessing import OneHotEncoder"
      ],
      "execution_count": 0,
      "outputs": []
    },
    {
      "metadata": {
        "id": "W2X2F9oSMrKS",
        "colab_type": "code",
        "colab": {}
      },
      "cell_type": "code",
      "source": [
        "# Load the dataset ...\n",
        "#  You will need to seperately download or generate this file\n",
        "Xd = pickle.load(open(\"RML2016.10b.dat\",'rb'))\n",
        "snrs,mods = map(lambda j: sorted(list(set(map(lambda x: x[j], Xd.keys())))), [1,0])\n",
        "raw_time_data = []  \n",
        "data_labels = []\n",
        "for mod in mods:\n",
        "    for snr in snrs:\n",
        "        raw_time_data.append(Xd[(mod,snr)])\n",
        "        for i in range(Xd[(mod,snr)].shape[0]):  data_labels.append((mod,snr))\n",
        "raw_time_data = np.vstack(raw_time_data)"
      ],
      "execution_count": 0,
      "outputs": []
    },
    {
      "metadata": {
        "id": "wmwS5Zd6dNwn",
        "colab_type": "code",
        "colab": {}
      },
      "cell_type": "code",
      "source": [
        "derivative1_data = np.gradient(raw_time_data, axis=0)"
      ],
      "execution_count": 0,
      "outputs": []
    },
    {
      "metadata": {
        "id": "HddECHpVdOUr",
        "colab_type": "code",
        "colab": {}
      },
      "cell_type": "code",
      "source": [
        "integration_data = integrate.cumtrapz(raw_time_data, initial=0)"
      ],
      "execution_count": 0,
      "outputs": []
    },
    {
      "metadata": {
        "id": "XTrPxM5H2W0l",
        "colab_type": "code",
        "colab": {}
      },
      "cell_type": "code",
      "source": [
        "dataset = []\n",
        "for i in range(len(raw_time_data)):\n",
        "    dataset.append(np.vstack((raw_time_data[i], derivative1_data[i], integration_data[i])))"
      ],
      "execution_count": 0,
      "outputs": []
    },
    {
      "metadata": {
        "id": "yjFN5cmV2jd-",
        "colab_type": "code",
        "colab": {
          "base_uri": "https://localhost:8080/",
          "height": 72
        },
        "outputId": "040ff585-4a9b-4910-ae36-ca299667acda"
      },
      "cell_type": "code",
      "source": [
        "print(\"dataset size = %d\" % len(dataset))\n",
        "print(\"number of features for each instance = %d\" % len(dataset[0]))\n",
        "print(\"number of elements in each feature = %d\" % len(dataset[0][0]))"
      ],
      "execution_count": 35,
      "outputs": [
        {
          "output_type": "stream",
          "text": [
            "dataset size = 1200000\n",
            "number of features for each instance = 6\n",
            "number of elements in each feature = 128\n"
          ],
          "name": "stdout"
        }
      ]
    },
    {
      "metadata": {
        "id": "h7HFDHNdYOCB",
        "colab_type": "text"
      },
      "cell_type": "markdown",
      "source": [
        "## Split the data into 50% for training/validation and 50% for testing."
      ]
    },
    {
      "metadata": {
        "id": "17EoomlZNuES",
        "colab_type": "code",
        "outputId": "63e86a1b-efb9-4fad-8db5-da7ab788be69",
        "colab": {
          "base_uri": "https://localhost:8080/",
          "height": 90
        }
      },
      "cell_type": "code",
      "source": [
        "training_data, test_data, training_labels, test_labels = train_test_split(dataset, data_labels, test_size = 0.5)\n",
        "\n",
        "training_labels = [label[0] for label in training_labels]\n",
        "test_labels = [label[0] for label in test_labels]\n",
        "\n",
        "print(\"training data size: %d\" % len(training_data))\n",
        "print(\"test data size: %d\" % len(test_data))\n",
        "print(\"training data labels size: %d\" % len(training_labels))\n",
        "print(\"test data labels size: %d\" % len(test_labels))"
      ],
      "execution_count": 38,
      "outputs": [
        {
          "output_type": "stream",
          "text": [
            "training data size: 600000\n",
            "test data size: 600000\n",
            "training data labels size: 600000\n",
            "test data labels size: 600000\n"
          ],
          "name": "stdout"
        }
      ]
    },
    {
      "metadata": {
        "id": "8sNy01Ck52pg",
        "colab_type": "code",
        "outputId": "faea00a2-c906-4122-b791-a1764a5bc8a5",
        "colab": {
          "base_uri": "https://localhost:8080/",
          "height": 35
        }
      },
      "cell_type": "code",
      "source": [
        "training_labels[1]"
      ],
      "execution_count": 40,
      "outputs": [
        {
          "output_type": "execute_result",
          "data": {
            "text/plain": [
              "'AM-DSB'"
            ]
          },
          "metadata": {
            "tags": []
          },
          "execution_count": 40
        }
      ]
    },
    {
      "metadata": {
        "id": "Mnj_VTtKw1A0",
        "colab_type": "code",
        "colab": {}
      },
      "cell_type": "code",
      "source": [
        "label_encoder = LabelEncoder()\n",
        "onehot_encoder = OneHotEncoder(sparse=False)\n",
        "\n",
        "\n",
        "training_integer_encoded = label_encoder.fit_transform(np.array(training_labels))\n",
        "training_integer_encoded = training_integer_encoded.reshape(len(training_integer_encoded), 1)\n",
        "training_labels = onehot_encoder.fit_transform(training_integer_encoded)\n",
        "\n",
        "\n",
        "test_integer_encoded = label_encoder.fit_transform(np.array(test_labels))\n",
        "test_integer_encoded = training_integer_encoded.reshape(len(test_integer_encoded), 1)\n",
        "test_labels = onehot_encoder.fit_transform(test_integer_encoded)\n"
      ],
      "execution_count": 0,
      "outputs": []
    },
    {
      "metadata": {
        "id": "3Qghnxl89F3R",
        "colab_type": "code",
        "outputId": "1d4f57f5-2154-45e8-9e22-865600e72d8a",
        "colab": {
          "base_uri": "https://localhost:8080/",
          "height": 35
        }
      },
      "cell_type": "code",
      "source": [
        "training_labels[5452]"
      ],
      "execution_count": 44,
      "outputs": [
        {
          "output_type": "execute_result",
          "data": {
            "text/plain": [
              "array([0., 0., 0., 0., 0., 0., 0., 0., 0., 1.])"
            ]
          },
          "metadata": {
            "tags": []
          },
          "execution_count": 44
        }
      ]
    },
    {
      "metadata": {
        "id": "tMUJBJU3dwG0",
        "colab_type": "text"
      },
      "cell_type": "markdown",
      "source": [
        "## Build the Convolutional Neural Network"
      ]
    },
    {
      "metadata": {
        "id": "oh3tlcNid3Kt",
        "colab_type": "code",
        "outputId": "c6b93817-2647-42a3-cb5e-d13986034741",
        "colab": {
          "base_uri": "https://localhost:8080/",
          "height": 399
        }
      },
      "cell_type": "code",
      "source": [
        "cnn_model = models.Sequential([\n",
        "    \n",
        "    Reshape([1, 6, 128], input_shape = (6, 128)),\n",
        "    \n",
        "    Convolution2D(activation=\"relu\", padding = 'same', data_format=\"channels_first\", filters=64, kernel_size=(1, 3)),\n",
        "    \n",
        "    Convolution2D(activation=\"relu\", padding = 'same', data_format=\"channels_first\", filters=16, kernel_size=(2, 3)),\n",
        "    \n",
        "    Dropout(0.5),\n",
        "    \n",
        "    Flatten(),\n",
        "    \n",
        "    Dense(units=128, activation=\"relu\"),  \n",
        "    \n",
        "    Dense(units=10, activation=\"softmax\")\n",
        "    \n",
        "])\n",
        "\n",
        "cnn_model.compile(loss='categorical_crossentropy', optimizer=\"adam\", metrics=['accuracy'])\n",
        "cnn_model.summary()"
      ],
      "execution_count": 45,
      "outputs": [
        {
          "output_type": "stream",
          "text": [
            "_________________________________________________________________\n",
            "Layer (type)                 Output Shape              Param #   \n",
            "=================================================================\n",
            "reshape_2 (Reshape)          (None, 1, 6, 128)         0         \n",
            "_________________________________________________________________\n",
            "conv2d_3 (Conv2D)            (None, 64, 6, 128)        256       \n",
            "_________________________________________________________________\n",
            "conv2d_4 (Conv2D)            (None, 16, 6, 128)        6160      \n",
            "_________________________________________________________________\n",
            "dropout_2 (Dropout)          (None, 16, 6, 128)        0         \n",
            "_________________________________________________________________\n",
            "flatten_2 (Flatten)          (None, 12288)             0         \n",
            "_________________________________________________________________\n",
            "dense_3 (Dense)              (None, 128)               1572992   \n",
            "_________________________________________________________________\n",
            "dense_4 (Dense)              (None, 10)                1290      \n",
            "=================================================================\n",
            "Total params: 1,580,698\n",
            "Trainable params: 1,580,698\n",
            "Non-trainable params: 0\n",
            "_________________________________________________________________\n"
          ],
          "name": "stdout"
        }
      ]
    },
    {
      "metadata": {
        "id": "QX4_kmu2g_xl",
        "colab_type": "code",
        "colab": {}
      },
      "cell_type": "code",
      "source": [
        "cnn_model.fit(training_data, training_labels, epochs=100,\n",
        "              batch_size=5120, validation_split= 0.01,\n",
        "              callbacks=[\n",
        "                  EarlyStopping(patience=3, monitor = 'val_loss', mode = 'min'),\n",
        "                  ModelCheckpoint(\"cnn-best-model-{epoch:02d}-{val_acc:.2f}.hdf5\", monitor='val_loss', save_best_only=True, mode='min', period=1)\n",
        "              ])"
      ],
      "execution_count": 0,
      "outputs": []
    },
    {
      "metadata": {
        "id": "tknuR8QbBMji",
        "colab_type": "code",
        "colab": {}
      },
      "cell_type": "code",
      "source": [
        ""
      ],
      "execution_count": 0,
      "outputs": []
    }
  ]
}